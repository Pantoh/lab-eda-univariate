{
 "cells": [
  {
   "cell_type": "code",
   "execution_count": 1,
   "id": "536f561d-b9b4-4982-a38c-5e250f6eb0d8",
   "metadata": {},
   "outputs": [],
   "source": [
    "import pandas as pd\n",
    "import matplotlib.pyplot as plt\n",
    "import seaborn as sns\n",
    "import numpy as np\n",
    "\n",
    "%matplotlib inline"
   ]
  },
  {
   "cell_type": "code",
   "execution_count": 5,
   "id": "1c7aa9da-8f33-4de9-81d5-f233981165d7",
   "metadata": {},
   "outputs": [],
   "source": [
    "df = pd.read_csv(\"C:/Users/Meli/Desktop/Ironhack/Lab1/lab-eda-univariate/amz_uk_price_prediction_dataset.csv\")"
   ]
  },
  {
   "cell_type": "code",
   "execution_count": 13,
   "id": "6525c9de-5eed-4178-96a2-0f3a960f02e3",
   "metadata": {},
   "outputs": [
    {
     "data": {
      "text/html": [
       "<div>\n",
       "<style scoped>\n",
       "    .dataframe tbody tr th:only-of-type {\n",
       "        vertical-align: middle;\n",
       "    }\n",
       "\n",
       "    .dataframe tbody tr th {\n",
       "        vertical-align: top;\n",
       "    }\n",
       "\n",
       "    .dataframe thead th {\n",
       "        text-align: right;\n",
       "    }\n",
       "</style>\n",
       "<table border=\"1\" class=\"dataframe\">\n",
       "  <thead>\n",
       "    <tr style=\"text-align: right;\">\n",
       "      <th></th>\n",
       "      <th>uid</th>\n",
       "      <th>asin</th>\n",
       "      <th>title</th>\n",
       "      <th>stars</th>\n",
       "      <th>reviews</th>\n",
       "      <th>price</th>\n",
       "      <th>isBestSeller</th>\n",
       "      <th>boughtInLastMonth</th>\n",
       "      <th>category</th>\n",
       "    </tr>\n",
       "  </thead>\n",
       "  <tbody>\n",
       "    <tr>\n",
       "      <th>2443641</th>\n",
       "      <td>2828582</td>\n",
       "      <td>B07JM93SCC</td>\n",
       "      <td>Motorcycle Clothing Suit - Motorbike Suit With...</td>\n",
       "      <td>0.0</td>\n",
       "      <td>0</td>\n",
       "      <td>166.99</td>\n",
       "      <td>False</td>\n",
       "      <td>0</td>\n",
       "      <td>Motorbike Clothing</td>\n",
       "    </tr>\n",
       "    <tr>\n",
       "      <th>2443642</th>\n",
       "      <td>2828585</td>\n",
       "      <td>B07DCFQMQL</td>\n",
       "      <td>Speed MaxX BODY ARMOUR CE MOTORBIKE/MOTORCYCLE...</td>\n",
       "      <td>3.6</td>\n",
       "      <td>66</td>\n",
       "      <td>49.99</td>\n",
       "      <td>False</td>\n",
       "      <td>0</td>\n",
       "      <td>Motorbike Clothing</td>\n",
       "    </tr>\n",
       "    <tr>\n",
       "      <th>2443643</th>\n",
       "      <td>2828586</td>\n",
       "      <td>B07JM5VQFX</td>\n",
       "      <td>Motorcycle Clothing Suit - Motorbike Suit With...</td>\n",
       "      <td>4.1</td>\n",
       "      <td>5</td>\n",
       "      <td>158.99</td>\n",
       "      <td>False</td>\n",
       "      <td>0</td>\n",
       "      <td>Motorbike Clothing</td>\n",
       "    </tr>\n",
       "    <tr>\n",
       "      <th>2443644</th>\n",
       "      <td>2828587</td>\n",
       "      <td>B07X98JLFF</td>\n",
       "      <td>GREAT BIKERS GEAR - Bobber Cafe Brat Style Lea...</td>\n",
       "      <td>3.6</td>\n",
       "      <td>12</td>\n",
       "      <td>14.99</td>\n",
       "      <td>False</td>\n",
       "      <td>0</td>\n",
       "      <td>Motorbike Clothing</td>\n",
       "    </tr>\n",
       "    <tr>\n",
       "      <th>2443645</th>\n",
       "      <td>2828588</td>\n",
       "      <td>B0BQMXJPP5</td>\n",
       "      <td>Helmet Ponytail Pigtails Twist Braids Hair wit...</td>\n",
       "      <td>0.0</td>\n",
       "      <td>0</td>\n",
       "      <td>19.99</td>\n",
       "      <td>False</td>\n",
       "      <td>0</td>\n",
       "      <td>Motorbike Clothing</td>\n",
       "    </tr>\n",
       "    <tr>\n",
       "      <th>2443646</th>\n",
       "      <td>2828589</td>\n",
       "      <td>B0CHSD7P2Q</td>\n",
       "      <td>Motorbike Armour, Motorbike Clothing, Cycling ...</td>\n",
       "      <td>0.0</td>\n",
       "      <td>0</td>\n",
       "      <td>22.34</td>\n",
       "      <td>False</td>\n",
       "      <td>0</td>\n",
       "      <td>Motorbike Clothing</td>\n",
       "    </tr>\n",
       "    <tr>\n",
       "      <th>2443647</th>\n",
       "      <td>2828590</td>\n",
       "      <td>B0B7B8FNBQ</td>\n",
       "      <td>PROFIRST Waterproof Motorcycle 2 Piece Ladies ...</td>\n",
       "      <td>0.0</td>\n",
       "      <td>0</td>\n",
       "      <td>97.99</td>\n",
       "      <td>False</td>\n",
       "      <td>0</td>\n",
       "      <td>Motorbike Clothing</td>\n",
       "    </tr>\n",
       "    <tr>\n",
       "      <th>2443648</th>\n",
       "      <td>2828591</td>\n",
       "      <td>B0BD5FL5FB</td>\n",
       "      <td>Men’s Motorcycle Motorbike Biker Trousers Kevl...</td>\n",
       "      <td>0.0</td>\n",
       "      <td>0</td>\n",
       "      <td>52.99</td>\n",
       "      <td>False</td>\n",
       "      <td>0</td>\n",
       "      <td>Motorbike Clothing</td>\n",
       "    </tr>\n",
       "    <tr>\n",
       "      <th>2443649</th>\n",
       "      <td>2828592</td>\n",
       "      <td>B008OYLL4I</td>\n",
       "      <td>Texpeed Mens Motorcycle Motorbike Biker Trouse...</td>\n",
       "      <td>4.3</td>\n",
       "      <td>404</td>\n",
       "      <td>79.99</td>\n",
       "      <td>False</td>\n",
       "      <td>0</td>\n",
       "      <td>Motorbike Clothing</td>\n",
       "    </tr>\n",
       "    <tr>\n",
       "      <th>2443650</th>\n",
       "      <td>2828593</td>\n",
       "      <td>B08P3W9B3T</td>\n",
       "      <td>RIDEX CJ223 Motorcycle Motorbike Jacket Armour...</td>\n",
       "      <td>4.5</td>\n",
       "      <td>34</td>\n",
       "      <td>53.99</td>\n",
       "      <td>False</td>\n",
       "      <td>0</td>\n",
       "      <td>Motorbike Clothing</td>\n",
       "    </tr>\n",
       "  </tbody>\n",
       "</table>\n",
       "</div>"
      ],
      "text/plain": [
       "             uid        asin  \\\n",
       "2443641  2828582  B07JM93SCC   \n",
       "2443642  2828585  B07DCFQMQL   \n",
       "2443643  2828586  B07JM5VQFX   \n",
       "2443644  2828587  B07X98JLFF   \n",
       "2443645  2828588  B0BQMXJPP5   \n",
       "2443646  2828589  B0CHSD7P2Q   \n",
       "2443647  2828590  B0B7B8FNBQ   \n",
       "2443648  2828591  B0BD5FL5FB   \n",
       "2443649  2828592  B008OYLL4I   \n",
       "2443650  2828593  B08P3W9B3T   \n",
       "\n",
       "                                                     title  stars  reviews  \\\n",
       "2443641  Motorcycle Clothing Suit - Motorbike Suit With...    0.0        0   \n",
       "2443642  Speed MaxX BODY ARMOUR CE MOTORBIKE/MOTORCYCLE...    3.6       66   \n",
       "2443643  Motorcycle Clothing Suit - Motorbike Suit With...    4.1        5   \n",
       "2443644  GREAT BIKERS GEAR - Bobber Cafe Brat Style Lea...    3.6       12   \n",
       "2443645  Helmet Ponytail Pigtails Twist Braids Hair wit...    0.0        0   \n",
       "2443646  Motorbike Armour, Motorbike Clothing, Cycling ...    0.0        0   \n",
       "2443647  PROFIRST Waterproof Motorcycle 2 Piece Ladies ...    0.0        0   \n",
       "2443648  Men’s Motorcycle Motorbike Biker Trousers Kevl...    0.0        0   \n",
       "2443649  Texpeed Mens Motorcycle Motorbike Biker Trouse...    4.3      404   \n",
       "2443650  RIDEX CJ223 Motorcycle Motorbike Jacket Armour...    4.5       34   \n",
       "\n",
       "          price  isBestSeller  boughtInLastMonth            category  \n",
       "2443641  166.99         False                  0  Motorbike Clothing  \n",
       "2443642   49.99         False                  0  Motorbike Clothing  \n",
       "2443643  158.99         False                  0  Motorbike Clothing  \n",
       "2443644   14.99         False                  0  Motorbike Clothing  \n",
       "2443645   19.99         False                  0  Motorbike Clothing  \n",
       "2443646   22.34         False                  0  Motorbike Clothing  \n",
       "2443647   97.99         False                  0  Motorbike Clothing  \n",
       "2443648   52.99         False                  0  Motorbike Clothing  \n",
       "2443649   79.99         False                  0  Motorbike Clothing  \n",
       "2443650   53.99         False                  0  Motorbike Clothing  "
      ]
     },
     "execution_count": 13,
     "metadata": {},
     "output_type": "execute_result"
    }
   ],
   "source": [
    "df.tail(10)"
   ]
  },
  {
   "cell_type": "code",
   "execution_count": 10,
   "id": "35c999af-a4c6-4a39-8452-e069c90f1f46",
   "metadata": {},
   "outputs": [
    {
     "data": {
      "text/plain": [
       "(2443651, 9)"
      ]
     },
     "execution_count": 10,
     "metadata": {},
     "output_type": "execute_result"
    }
   ],
   "source": [
    "df.shape"
   ]
  },
  {
   "cell_type": "code",
   "execution_count": 29,
   "id": "4ba51d12-928e-4ada-b0a1-8fdd30a1a0d4",
   "metadata": {},
   "outputs": [
    {
     "data": {
      "text/plain": [
       "Index(['uid', 'asin', 'title', 'stars', 'reviews', 'price', 'isBestSeller',\n",
       "       'boughtInLastMonth', 'category'],\n",
       "      dtype='object')"
      ]
     },
     "execution_count": 29,
     "metadata": {},
     "output_type": "execute_result"
    }
   ],
   "source": [
    "df.columns"
   ]
  },
  {
   "cell_type": "code",
   "execution_count": 14,
   "id": "f55861be-78be-4e9c-b82d-212393a7be44",
   "metadata": {},
   "outputs": [
    {
     "data": {
      "text/plain": [
       "uid                    int64\n",
       "asin                  object\n",
       "title                 object\n",
       "stars                float64\n",
       "reviews                int64\n",
       "price                float64\n",
       "isBestSeller            bool\n",
       "boughtInLastMonth      int64\n",
       "category              object\n",
       "dtype: object"
      ]
     },
     "execution_count": 14,
     "metadata": {},
     "output_type": "execute_result"
    }
   ],
   "source": [
    "df.dtypes"
   ]
  },
  {
   "cell_type": "code",
   "execution_count": 27,
   "id": "0e0fa762-a5dc-478c-a386-3b89d49650c1",
   "metadata": {},
   "outputs": [],
   "source": [
    "# change scientific notation to two decimals\n",
    "pd.options.display.float_format = '{:20,.2f}'.format"
   ]
  },
  {
   "cell_type": "code",
   "execution_count": 28,
   "id": "7115bf85-896b-4dca-b4b7-07d875cfb552",
   "metadata": {},
   "outputs": [
    {
     "data": {
      "text/html": [
       "<div>\n",
       "<style scoped>\n",
       "    .dataframe tbody tr th:only-of-type {\n",
       "        vertical-align: middle;\n",
       "    }\n",
       "\n",
       "    .dataframe tbody tr th {\n",
       "        vertical-align: top;\n",
       "    }\n",
       "\n",
       "    .dataframe thead th {\n",
       "        text-align: right;\n",
       "    }\n",
       "</style>\n",
       "<table border=\"1\" class=\"dataframe\">\n",
       "  <thead>\n",
       "    <tr style=\"text-align: right;\">\n",
       "      <th></th>\n",
       "      <th>uid</th>\n",
       "      <th>stars</th>\n",
       "      <th>reviews</th>\n",
       "      <th>price</th>\n",
       "      <th>boughtInLastMonth</th>\n",
       "    </tr>\n",
       "  </thead>\n",
       "  <tbody>\n",
       "    <tr>\n",
       "      <th>count</th>\n",
       "      <td>2,443,651.00</td>\n",
       "      <td>2,443,651.00</td>\n",
       "      <td>2,443,651.00</td>\n",
       "      <td>2,443,651.00</td>\n",
       "      <td>2,443,651.00</td>\n",
       "    </tr>\n",
       "    <tr>\n",
       "      <th>mean</th>\n",
       "      <td>1,370,545.35</td>\n",
       "      <td>2.15</td>\n",
       "      <td>480.63</td>\n",
       "      <td>89.24</td>\n",
       "      <td>25.90</td>\n",
       "    </tr>\n",
       "    <tr>\n",
       "      <th>std</th>\n",
       "      <td>816,056.17</td>\n",
       "      <td>2.19</td>\n",
       "      <td>5,944.12</td>\n",
       "      <td>345.61</td>\n",
       "      <td>240.48</td>\n",
       "    </tr>\n",
       "    <tr>\n",
       "      <th>min</th>\n",
       "      <td>1.00</td>\n",
       "      <td>0.00</td>\n",
       "      <td>0.00</td>\n",
       "      <td>0.00</td>\n",
       "      <td>0.00</td>\n",
       "    </tr>\n",
       "    <tr>\n",
       "      <th>25%</th>\n",
       "      <td>658,921.50</td>\n",
       "      <td>0.00</td>\n",
       "      <td>0.00</td>\n",
       "      <td>9.99</td>\n",
       "      <td>0.00</td>\n",
       "    </tr>\n",
       "    <tr>\n",
       "      <th>50%</th>\n",
       "      <td>1,349,029.00</td>\n",
       "      <td>0.00</td>\n",
       "      <td>0.00</td>\n",
       "      <td>19.09</td>\n",
       "      <td>0.00</td>\n",
       "    </tr>\n",
       "    <tr>\n",
       "      <th>75%</th>\n",
       "      <td>2,060,685.50</td>\n",
       "      <td>4.40</td>\n",
       "      <td>59.00</td>\n",
       "      <td>45.99</td>\n",
       "      <td>0.00</td>\n",
       "    </tr>\n",
       "    <tr>\n",
       "      <th>max</th>\n",
       "      <td>2,828,593.00</td>\n",
       "      <td>5.00</td>\n",
       "      <td>1,356,658.00</td>\n",
       "      <td>100,000.00</td>\n",
       "      <td>50,000.00</td>\n",
       "    </tr>\n",
       "  </tbody>\n",
       "</table>\n",
       "</div>"
      ],
      "text/plain": [
       "                       uid                stars              reviews  \\\n",
       "count         2,443,651.00         2,443,651.00         2,443,651.00   \n",
       "mean          1,370,545.35                 2.15               480.63   \n",
       "std             816,056.17                 2.19             5,944.12   \n",
       "min                   1.00                 0.00                 0.00   \n",
       "25%             658,921.50                 0.00                 0.00   \n",
       "50%           1,349,029.00                 0.00                 0.00   \n",
       "75%           2,060,685.50                 4.40                59.00   \n",
       "max           2,828,593.00                 5.00         1,356,658.00   \n",
       "\n",
       "                     price    boughtInLastMonth  \n",
       "count         2,443,651.00         2,443,651.00  \n",
       "mean                 89.24                25.90  \n",
       "std                 345.61               240.48  \n",
       "min                   0.00                 0.00  \n",
       "25%                   9.99                 0.00  \n",
       "50%                  19.09                 0.00  \n",
       "75%                  45.99                 0.00  \n",
       "max             100,000.00            50,000.00  "
      ]
     },
     "execution_count": 28,
     "metadata": {},
     "output_type": "execute_result"
    }
   ],
   "source": [
    "df.describe()"
   ]
  },
  {
   "cell_type": "code",
   "execution_count": 15,
   "id": "21d27274-6189-4010-bce6-04d2ea7351ec",
   "metadata": {},
   "outputs": [
    {
     "data": {
      "text/plain": [
       "[dtype('bool'), dtype('float64'), dtype('int64'), dtype('O')]"
      ]
     },
     "execution_count": 15,
     "metadata": {},
     "output_type": "execute_result"
    }
   ],
   "source": [
    "# Retrieving the unique data types present in the dataframe columns\n",
    "list(set(df.dtypes.tolist()))"
   ]
  },
  {
   "cell_type": "code",
   "execution_count": 16,
   "id": "de7e0f5e-c8fe-4cb7-bb03-85ff7183934e",
   "metadata": {},
   "outputs": [
    {
     "data": {
      "text/plain": [
       "Index(['uid', 'stars', 'reviews', 'price', 'boughtInLastMonth'], dtype='object')"
      ]
     },
     "execution_count": 16,
     "metadata": {},
     "output_type": "execute_result"
    }
   ],
   "source": [
    "# Extracting column names with numerical data types from the dataframe\n",
    "df.select_dtypes(\"number\").columns"
   ]
  },
  {
   "cell_type": "code",
   "execution_count": 17,
   "id": "a2288bcc-1f86-4dbb-9db7-f73ecfe1a69a",
   "metadata": {},
   "outputs": [
    {
     "data": {
      "text/plain": [
       "uid                  2443651\n",
       "price                  82916\n",
       "reviews                19446\n",
       "stars                     42\n",
       "boughtInLastMonth         25\n",
       "dtype: int64"
      ]
     },
     "execution_count": 17,
     "metadata": {},
     "output_type": "execute_result"
    }
   ],
   "source": [
    "# Counting and sorting the unique values for each numerical column in descending order\n",
    "df.select_dtypes(\"number\").nunique().sort_values(ascending=False)"
   ]
  },
  {
   "cell_type": "code",
   "execution_count": 18,
   "id": "aaff4c44-8e08-49b9-9da2-697f16a825f2",
   "metadata": {},
   "outputs": [
    {
     "data": {
      "text/html": [
       "<div>\n",
       "<style scoped>\n",
       "    .dataframe tbody tr th:only-of-type {\n",
       "        vertical-align: middle;\n",
       "    }\n",
       "\n",
       "    .dataframe tbody tr th {\n",
       "        vertical-align: top;\n",
       "    }\n",
       "\n",
       "    .dataframe thead th {\n",
       "        text-align: right;\n",
       "    }\n",
       "</style>\n",
       "<table border=\"1\" class=\"dataframe\">\n",
       "  <thead>\n",
       "    <tr style=\"text-align: right;\">\n",
       "      <th></th>\n",
       "    </tr>\n",
       "  </thead>\n",
       "  <tbody>\n",
       "    <tr>\n",
       "      <th>0</th>\n",
       "    </tr>\n",
       "    <tr>\n",
       "      <th>1</th>\n",
       "    </tr>\n",
       "    <tr>\n",
       "      <th>2</th>\n",
       "    </tr>\n",
       "    <tr>\n",
       "      <th>3</th>\n",
       "    </tr>\n",
       "    <tr>\n",
       "      <th>4</th>\n",
       "    </tr>\n",
       "    <tr>\n",
       "      <th>...</th>\n",
       "    </tr>\n",
       "    <tr>\n",
       "      <th>2443646</th>\n",
       "    </tr>\n",
       "    <tr>\n",
       "      <th>2443647</th>\n",
       "    </tr>\n",
       "    <tr>\n",
       "      <th>2443648</th>\n",
       "    </tr>\n",
       "    <tr>\n",
       "      <th>2443649</th>\n",
       "    </tr>\n",
       "    <tr>\n",
       "      <th>2443650</th>\n",
       "    </tr>\n",
       "  </tbody>\n",
       "</table>\n",
       "<p>2443651 rows × 0 columns</p>\n",
       "</div>"
      ],
      "text/plain": [
       "Empty DataFrame\n",
       "Columns: []\n",
       "Index: [0, 1, 2, 3, 4, 5, 6, 7, 8, 9, 10, 11, 12, 13, 14, 15, 16, 17, 18, 19, 20, 21, 22, 23, 24, 25, 26, 27, 28, 29, 30, 31, 32, 33, 34, 35, 36, 37, 38, 39, 40, 41, 42, 43, 44, 45, 46, 47, 48, 49, 50, 51, 52, 53, 54, 55, 56, 57, 58, 59, 60, 61, 62, 63, 64, 65, 66, 67, 68, 69, 70, 71, 72, 73, 74, 75, 76, 77, 78, 79, 80, 81, 82, 83, 84, 85, 86, 87, 88, 89, 90, 91, 92, 93, 94, 95, 96, 97, 98, 99, ...]\n",
       "\n",
       "[2443651 rows x 0 columns]"
      ]
     },
     "execution_count": 18,
     "metadata": {},
     "output_type": "execute_result"
    }
   ],
   "source": [
    "# Separating between discrete and continuous variables, as discrete ones could potentially be treated as categorical.\n",
    "# Remember to adjust the threshold (in this case, < 20) based on your dataset's specific characteristics and domain knowledge.\n",
    "potential_categorical_from_numerical = df.select_dtypes(\"number\").loc[:, df.select_dtypes(\"number\").nunique() < 20]\n",
    "potential_categorical_from_numerical"
   ]
  },
  {
   "cell_type": "code",
   "execution_count": 19,
   "id": "c447a2f1-9731-4c4a-940d-10b552fe77f0",
   "metadata": {},
   "outputs": [
    {
     "data": {
      "text/plain": [
       "Index(['asin', 'title', 'category'], dtype='object')"
      ]
     },
     "execution_count": 19,
     "metadata": {},
     "output_type": "execute_result"
    }
   ],
   "source": [
    "# Retrieving column names with object (typically string) data types from the dataframe\n",
    "df.select_dtypes(\"object\").columns"
   ]
  },
  {
   "cell_type": "code",
   "execution_count": 21,
   "id": "7e273efd-009e-4933-858f-d16073a80011",
   "metadata": {},
   "outputs": [
    {
     "data": {
      "text/plain": [
       "asin        2222742\n",
       "title       2077591\n",
       "category        296\n",
       "dtype: int64"
      ]
     },
     "execution_count": 21,
     "metadata": {},
     "output_type": "execute_result"
    }
   ],
   "source": [
    "# Counting and sorting the unique values for each object (string) column in descending order\n",
    "df.select_dtypes(\"object\").nunique().sort_values(ascending=False)\n"
   ]
  },
  {
   "cell_type": "code",
   "execution_count": 22,
   "id": "bae55623-4b64-446e-8c0f-25b3009b8b3f",
   "metadata": {},
   "outputs": [],
   "source": [
    "# Extracting columns with object (typically string) data types to create a categorical dataframe\n",
    "# For demonstration purposes, let's consider the columns in potential_categorical_from_numerical as categorical variables.\n",
    "df_categorical = pd.concat([df.select_dtypes(\"object\"), potential_categorical_from_numerical], axis=1)\n",
    "\n",
    "# Adjusting the numerical dataframe by removing the moved columns\n",
    "df_numerical = df.select_dtypes(\"number\").drop(columns=potential_categorical_from_numerical.columns)"
   ]
  },
  {
   "cell_type": "code",
   "execution_count": 23,
   "id": "6d42e6b5-dc46-4d8f-8e49-42d65f7815d3",
   "metadata": {},
   "outputs": [
    {
     "data": {
      "text/plain": [
       "False"
      ]
     },
     "execution_count": 23,
     "metadata": {},
     "output_type": "execute_result"
    }
   ],
   "source": [
    "# Verifying that the total number of columns in the dataframe is the sum of object (string) and numerical columns\n",
    "len(df.columns) == len(df.select_dtypes(\"object\").columns) + len(df.select_dtypes(\"number\").columns)"
   ]
  },
  {
   "cell_type": "markdown",
   "id": "fa052c69-9b32-40f0-a6ee-4de829d27187",
   "metadata": {},
   "source": [
    "# Data Cleaning\r",
    "## \n",
    "Checking for Missing Data¶"
   ]
  },
  {
   "cell_type": "code",
   "execution_count": 24,
   "id": "48e55a2b-63b6-43e7-84f6-55c8e0c55522",
   "metadata": {},
   "outputs": [
    {
     "data": {
      "text/plain": [
       "uid                  0\n",
       "asin                 0\n",
       "title                0\n",
       "stars                0\n",
       "reviews              0\n",
       "price                0\n",
       "isBestSeller         0\n",
       "boughtInLastMonth    0\n",
       "category             0\n",
       "dtype: int64"
      ]
     },
     "execution_count": 24,
     "metadata": {},
     "output_type": "execute_result"
    }
   ],
   "source": [
    "# Checking for missing data\n",
    "df.isnull().sum().sort_values(ascending=False)"
   ]
  },
  {
   "cell_type": "code",
   "execution_count": null,
   "id": "de4061ed-fc67-48a7-bff6-7ea20176864e",
   "metadata": {},
   "outputs": [],
   "source": []
  },
  {
   "cell_type": "markdown",
   "id": "27c6f97d-7c74-4cb3-aa29-9dbf0e7fea33",
   "metadata": {},
   "source": [
    "# Part 1: Understanding Product Categories"
   ]
  },
  {
   "cell_type": "markdown",
   "id": "5778759f-4113-4ffe-b90e-de9da13b7871",
   "metadata": {},
   "source": [
    "## Business Question: What are the most popular product categories on Amazon UK, and how do they compare in terms of listing frequency?\r\n",
    "## \r\n",
    "Frequency Tables:## \r\n",
    "\r\n",
    "Generate a frequency table for the product category."
   ]
  },
  {
   "cell_type": "code",
   "execution_count": 40,
   "id": "e06a063f-04ca-4bdd-954b-fe2dd13b1410",
   "metadata": {},
   "outputs": [
    {
     "data": {
      "text/plain": [
       "category\n",
       "Sports & Outdoors                                        0.34\n",
       "Beauty                                                   0.01\n",
       "Handmade Clothing, Shoes & Accessories                   0.01\n",
       "Bath & Body                                              0.01\n",
       "Birthday Gifts                                           0.01\n",
       "                                                 ...         \n",
       "Alexa Built-In Devices                                   0.00\n",
       "Motorbike Chassis                                        0.00\n",
       "Plugs                                                    0.00\n",
       "Smart Home Security & Lighting                           0.00\n",
       "Smart Speakers                                           0.00\n",
       "Name: proportion, Length: 296, dtype: float64"
      ]
     },
     "execution_count": 40,
     "metadata": {},
     "output_type": "execute_result"
    }
   ],
   "source": [
    "# Frequency table for 'category'\n",
    "frequency_table = df['category'].value_counts()\n",
    "frequency_table\n",
    "# Calculating the proportion of each unique value in the 'category'\n",
    "proportion_table = df['category'].value_counts(normalize=True)\n",
    "proportion_table"
   ]
  },
  {
   "cell_type": "code",
   "execution_count": null,
   "id": "ad7ec56c-db41-4b43-8e8e-506307360b50",
   "metadata": {},
   "outputs": [],
   "source": []
  },
  {
   "cell_type": "code",
   "execution_count": 34,
   "id": "439f6e38-b85c-4a5a-b567-a6027395081d",
   "metadata": {},
   "outputs": [
    {
     "data": {
      "text/plain": [
       "(category\n",
       " Sports & Outdoors                         836265\n",
       " Beauty                                     19312\n",
       " Handmade Clothing, Shoes & Accessories     19229\n",
       " Bath & Body                                19092\n",
       " Birthday Gifts                             18978\n",
       "                                            ...  \n",
       " Alexa Built-In Devices                       107\n",
       " Motorbike Chassis                            107\n",
       " Plugs                                        107\n",
       " Smart Home Security & Lighting               104\n",
       " Smart Speakers                                54\n",
       " Name: count, Length: 296, dtype: int64,\n",
       " category\n",
       " Sports & Outdoors                                        0.34\n",
       " Beauty                                                   0.01\n",
       " Handmade Clothing, Shoes & Accessories                   0.01\n",
       " Bath & Body                                              0.01\n",
       " Birthday Gifts                                           0.01\n",
       "                                                  ...         \n",
       " Alexa Built-In Devices                                   0.00\n",
       " Motorbike Chassis                                        0.00\n",
       " Plugs                                                    0.00\n",
       " Smart Home Security & Lighting                           0.00\n",
       " Smart Speakers                                           0.00\n",
       " Name: proportion, Length: 296, dtype: float64)"
      ]
     },
     "execution_count": 34,
     "metadata": {},
     "output_type": "execute_result"
    }
   ],
   "source": []
  },
  {
   "cell_type": "code",
   "execution_count": 41,
   "id": "aa62d623-961d-4f13-b142-722825540085",
   "metadata": {},
   "outputs": [
    {
     "data": {
      "text/html": [
       "<div>\n",
       "<style scoped>\n",
       "    .dataframe tbody tr th:only-of-type {\n",
       "        vertical-align: middle;\n",
       "    }\n",
       "\n",
       "    .dataframe tbody tr th {\n",
       "        vertical-align: top;\n",
       "    }\n",
       "\n",
       "    .dataframe thead th {\n",
       "        text-align: right;\n",
       "    }\n",
       "</style>\n",
       "<table border=\"1\" class=\"dataframe\">\n",
       "  <thead>\n",
       "    <tr style=\"text-align: right;\">\n",
       "      <th>col_0</th>\n",
       "      <th>count</th>\n",
       "    </tr>\n",
       "    <tr>\n",
       "      <th>category</th>\n",
       "      <th></th>\n",
       "    </tr>\n",
       "  </thead>\n",
       "  <tbody>\n",
       "    <tr>\n",
       "      <th>3D Printers</th>\n",
       "      <td>248</td>\n",
       "    </tr>\n",
       "    <tr>\n",
       "      <th>3D Printing &amp; Scanning</th>\n",
       "      <td>4067</td>\n",
       "    </tr>\n",
       "    <tr>\n",
       "      <th>Abrasive &amp; Finishing Products</th>\n",
       "      <td>250</td>\n",
       "    </tr>\n",
       "    <tr>\n",
       "      <th>Action Cameras</th>\n",
       "      <td>1697</td>\n",
       "    </tr>\n",
       "    <tr>\n",
       "      <th>Adapters</th>\n",
       "      <td>254</td>\n",
       "    </tr>\n",
       "    <tr>\n",
       "      <th>...</th>\n",
       "      <td>...</td>\n",
       "    </tr>\n",
       "    <tr>\n",
       "      <th>Wind Instruments</th>\n",
       "      <td>250</td>\n",
       "    </tr>\n",
       "    <tr>\n",
       "      <th>Window Treatments</th>\n",
       "      <td>239</td>\n",
       "    </tr>\n",
       "    <tr>\n",
       "      <th>Women</th>\n",
       "      <td>17772</td>\n",
       "    </tr>\n",
       "    <tr>\n",
       "      <th>Women's Sports &amp; Outdoor Shoes</th>\n",
       "      <td>1959</td>\n",
       "    </tr>\n",
       "    <tr>\n",
       "      <th>eBook Readers &amp; Accessories</th>\n",
       "      <td>246</td>\n",
       "    </tr>\n",
       "  </tbody>\n",
       "</table>\n",
       "<p>296 rows × 1 columns</p>\n",
       "</div>"
      ],
      "text/plain": [
       "col_0                           count\n",
       "category                             \n",
       "3D Printers                       248\n",
       "3D Printing & Scanning           4067\n",
       "Abrasive & Finishing Products     250\n",
       "Action Cameras                   1697\n",
       "Adapters                          254\n",
       "...                               ...\n",
       "Wind Instruments                  250\n",
       "Window Treatments                 239\n",
       "Women                           17772\n",
       "Women's Sports & Outdoor Shoes   1959\n",
       "eBook Readers & Accessories       246\n",
       "\n",
       "[296 rows x 1 columns]"
      ]
     },
     "execution_count": 41,
     "metadata": {},
     "output_type": "execute_result"
    }
   ],
   "source": [
    "my_table = pd.crosstab(index = df_categorical[\"category\"],  # Make a crosstab\n",
    "                              columns=\"count\")      # Name the count column\n",
    "my_table"
   ]
  },
  {
   "cell_type": "markdown",
   "id": "5f01f1fb-1032-404e-90e7-36a22485084a",
   "metadata": {},
   "source": [
    "## Which are the top 5 most listed product categories?"
   ]
  },
  {
   "cell_type": "code",
   "execution_count": 42,
   "id": "d5fa7dcf-ea0d-45f8-99de-fd1e0ba961a0",
   "metadata": {},
   "outputs": [
    {
     "data": {
      "text/plain": [
       "category\n",
       "Sports & Outdoors                         836265\n",
       "Beauty                                     19312\n",
       "Handmade Clothing, Shoes & Accessories     19229\n",
       "Bath & Body                                19092\n",
       "Birthday Gifts                             18978\n",
       "Name: count, dtype: int64"
      ]
     },
     "execution_count": 42,
     "metadata": {},
     "output_type": "execute_result"
    }
   ],
   "source": [
    "# Top 5 most listed product categories\n",
    "top_5_categories = frequency_table.nlargest(5)\n",
    "\n",
    "# Display the result\n",
    "top_5_categories"
   ]
  },
  {
   "cell_type": "markdown",
   "id": "c60bf5e6-37c5-4d17-9996-6ffa20a48c56",
   "metadata": {},
   "source": [
    "## Visualizations:\r\n",
    "## \r\n",
    "Display the distribution of products across different categories using a bar chart. If you face problems understanding the chart, do it for a subset of top categories."
   ]
  },
  {
   "cell_type": "code",
   "execution_count": 46,
   "id": "04764479-854e-4ec6-aba0-ad1e31708f72",
   "metadata": {},
   "outputs": [
    {
     "data": {
      "image/png": "[encoded data removed]",
      "text/plain": [
       "<Figure size 1000x600 with 1 Axes>"
      ]
     },
     "metadata": {},
     "output_type": "display_data"
    }
   ],
   "source": [
    "top_n = 5  # Number of top categories to plot\n",
    "top_categories = frequency_table.nlargest(top_n)\n",
    "\n",
    "# Plotting the distribution for top categories\n",
    "plt.figure(figsize=(10, 6))\n",
    "top_categories.plot(kind='bar')\n",
    "plt.title(f'Top {top_n} Product Categories')\n",
    "plt.xlabel('Category')\n",
    "plt.ylabel('Number of Products')\n",
    "plt.xticks(rotation=45)\n",
    "plt.show()"
   ]
  },
  {
   "cell_type": "markdown",
   "id": "883737f5-61a5-416b-9223-962729a711cd",
   "metadata": {},
   "source": [
    "## For a subset of top categories, visualize their proportions using a pie chart. Does any category dominate the listings?"
   ]
  },
  {
   "cell_type": "code",
   "execution_count": 51,
   "id": "74462379-a797-4abb-bf06-9f78a73a8800",
   "metadata": {},
   "outputs": [
    {
     "data": {
      "image/png": "[encoded data removed]",
      "text/plain": [
       "<Figure size 800x800 with 1 Axes>"
      ]
     },
     "metadata": {},
     "output_type": "display_data"
    }
   ],
   "source": [
    "# Frequency table for 'category'\n",
    "frequency_table = df['category'].value_counts()\n",
    "\n",
    "# Selecting the top categories\n",
    "top_n = 5  # Number of top categories to visualize\n",
    "top_categories = frequency_table.nlargest(top_n)\n",
    "\n",
    "# Plotting a pie chart for the top categories\n",
    "plt.figure(figsize=(8, 8))\n",
    "top_categories.plot(kind='pie', autopct='%1.1f%%', startangle=0, cmap='Set3')\n",
    "plt.title(f'Top {top_n} Product Categories Proportion')\n",
    "plt.ylabel('')  # Hide the y-label\n",
    "plt.show()\n"
   ]
  },
  {
   "cell_type": "markdown",
   "id": "7f30cee7-7f1f-4ac3-a5b4-f300f9ffb77f",
   "metadata": {},
   "source": [
    "## Part 2: Delving into Product Pricing\r",
    "## \n",
    "Business Question: How are products priced on Amazon UK, and are there specific price points or ranges that are more common?\r\n",
    "\r\n",
    "Measures of Centrality:\r\n",
    "\r\n",
    "Calculate the mean, median, and mode for the price of products."
   ]
  },
  {
   "cell_type": "code",
   "execution_count": 52,
   "id": "d526ed32-619d-4493-9fd2-c63e506e5f02",
   "metadata": {},
   "outputs": [
    {
     "data": {
      "text/html": [
       "<div>\n",
       "<style scoped>\n",
       "    .dataframe tbody tr th:only-of-type {\n",
       "        vertical-align: middle;\n",
       "    }\n",
       "\n",
       "    .dataframe tbody tr th {\n",
       "        vertical-align: top;\n",
       "    }\n",
       "\n",
       "    .dataframe thead th {\n",
       "        text-align: right;\n",
       "    }\n",
       "</style>\n",
       "<table border=\"1\" class=\"dataframe\">\n",
       "  <thead>\n",
       "    <tr style=\"text-align: right;\">\n",
       "      <th></th>\n",
       "      <th>uid</th>\n",
       "      <th>stars</th>\n",
       "      <th>reviews</th>\n",
       "      <th>price</th>\n",
       "      <th>boughtInLastMonth</th>\n",
       "    </tr>\n",
       "  </thead>\n",
       "  <tbody>\n",
       "    <tr>\n",
       "      <th>count</th>\n",
       "      <td>2,443,651.00</td>\n",
       "      <td>2,443,651.00</td>\n",
       "      <td>2,443,651.00</td>\n",
       "      <td>2,443,651.00</td>\n",
       "      <td>2,443,651.00</td>\n",
       "    </tr>\n",
       "    <tr>\n",
       "      <th>mean</th>\n",
       "      <td>1,370,545.35</td>\n",
       "      <td>2.15</td>\n",
       "      <td>480.63</td>\n",
       "      <td>89.24</td>\n",
       "      <td>25.90</td>\n",
       "    </tr>\n",
       "    <tr>\n",
       "      <th>std</th>\n",
       "      <td>816,056.17</td>\n",
       "      <td>2.19</td>\n",
       "      <td>5,944.12</td>\n",
       "      <td>345.61</td>\n",
       "      <td>240.48</td>\n",
       "    </tr>\n",
       "    <tr>\n",
       "      <th>min</th>\n",
       "      <td>1.00</td>\n",
       "      <td>0.00</td>\n",
       "      <td>0.00</td>\n",
       "      <td>0.00</td>\n",
       "      <td>0.00</td>\n",
       "    </tr>\n",
       "    <tr>\n",
       "      <th>25%</th>\n",
       "      <td>658,921.50</td>\n",
       "      <td>0.00</td>\n",
       "      <td>0.00</td>\n",
       "      <td>9.99</td>\n",
       "      <td>0.00</td>\n",
       "    </tr>\n",
       "    <tr>\n",
       "      <th>50%</th>\n",
       "      <td>1,349,029.00</td>\n",
       "      <td>0.00</td>\n",
       "      <td>0.00</td>\n",
       "      <td>19.09</td>\n",
       "      <td>0.00</td>\n",
       "    </tr>\n",
       "    <tr>\n",
       "      <th>75%</th>\n",
       "      <td>2,060,685.50</td>\n",
       "      <td>4.40</td>\n",
       "      <td>59.00</td>\n",
       "      <td>45.99</td>\n",
       "      <td>0.00</td>\n",
       "    </tr>\n",
       "    <tr>\n",
       "      <th>max</th>\n",
       "      <td>2,828,593.00</td>\n",
       "      <td>5.00</td>\n",
       "      <td>1,356,658.00</td>\n",
       "      <td>100,000.00</td>\n",
       "      <td>50,000.00</td>\n",
       "    </tr>\n",
       "  </tbody>\n",
       "</table>\n",
       "</div>"
      ],
      "text/plain": [
       "                       uid                stars              reviews  \\\n",
       "count         2,443,651.00         2,443,651.00         2,443,651.00   \n",
       "mean          1,370,545.35                 2.15               480.63   \n",
       "std             816,056.17                 2.19             5,944.12   \n",
       "min                   1.00                 0.00                 0.00   \n",
       "25%             658,921.50                 0.00                 0.00   \n",
       "50%           1,349,029.00                 0.00                 0.00   \n",
       "75%           2,060,685.50                 4.40                59.00   \n",
       "max           2,828,593.00                 5.00         1,356,658.00   \n",
       "\n",
       "                     price    boughtInLastMonth  \n",
       "count         2,443,651.00         2,443,651.00  \n",
       "mean                 89.24                25.90  \n",
       "std                 345.61               240.48  \n",
       "min                   0.00                 0.00  \n",
       "25%                   9.99                 0.00  \n",
       "50%                  19.09                 0.00  \n",
       "75%                  45.99                 0.00  \n",
       "max             100,000.00            50,000.00  "
      ]
     },
     "execution_count": 52,
     "metadata": {},
     "output_type": "execute_result"
    }
   ],
   "source": [
    "df.describe()"
   ]
  },
  {
   "cell_type": "code",
   "execution_count": 63,
   "id": "f06899e6-1c52-4791-8555-14b5ab7b6243",
   "metadata": {},
   "outputs": [
    {
     "data": {
      "text/plain": [
       "(89.24, 19.09, 9.99)"
      ]
     },
     "execution_count": 63,
     "metadata": {},
     "output_type": "execute_result"
    }
   ],
   "source": [
    "mean_price = df['price'].mean()  # Computes the mean of the selected column\n",
    "median_price = df['price'].median()  # Calculates the median of the selected column\n",
    "mode_price = df['price'].mode()[0]  # Identifies the mode of the selected column\n",
    "\n",
    "mean_price.round(2), median_price, mode_price"
   ]
  },
  {
   "cell_type": "markdown",
   "id": "5192f9a4-6862-4875-a0ff-6a1b48678a1a",
   "metadata": {},
   "source": [
    "# What's the average price point of products listed? How does this compare with the most common price point (mode)?"
   ]
  },
  {
   "cell_type": "code",
   "execution_count": 64,
   "id": "033ae9db-5eab-4597-9a51-c9a84ab1d0f7",
   "metadata": {},
   "outputs": [
    {
     "data": {
      "text/plain": [
       "(89.24, 9.99)"
      ]
     },
     "execution_count": 64,
     "metadata": {},
     "output_type": "execute_result"
    }
   ],
   "source": [
    "mean_price = df['price'].mean()  # Computes the mean of the selected column\n",
    "mode_price = df['price'].mode()[0]  # Identifies the mode of the selected column\n",
    "\n",
    "mean_price.round(2), mode_price"
   ]
  },
  {
   "cell_type": "code",
   "execution_count": null,
   "id": "3fd13616-73c6-4184-a2f8-fa7ee188a8c3",
   "metadata": {},
   "outputs": [],
   "source": [
    "# mean is the average and the mode is the most repaeted price, it´s the pike in the visualization."
   ]
  },
  {
   "cell_type": "markdown",
   "id": "2af81f92-4881-4c32-80bd-43b342cb3a6b",
   "metadata": {},
   "source": [
    "## Measures of Dispersion:\r\n",
    "\r\n",
    "Determine the variance, standard deviation, range, and interquartile range for product price.\r\n",
    "How varied are the product prices? Are there any indicators of a significant spread in prices?\r\n"
   ]
  },
  {
   "cell_type": "code",
   "execution_count": 68,
   "id": "e67bd12e-3220-48f3-95df-bdc35955b3c2",
   "metadata": {},
   "outputs": [
    {
     "data": {
      "text/plain": [
       "(119445.48532256528,\n",
       " 345.60886175352226,\n",
       " 0.0,\n",
       " 100000.0,\n",
       " 100000.0,\n",
       " 0.25                   9.99\n",
       " 0.50                  19.09\n",
       " 0.75                  45.99\n",
       " Name: price, dtype: float64)"
      ]
     },
     "execution_count": 68,
     "metadata": {},
     "output_type": "execute_result"
    }
   ],
   "source": [
    "variance_price = df['price'].var()\n",
    "std_dev_price = df['price'].std()\n",
    "min_price = df['price'].min()\n",
    "max_price = df['price'].max()\n",
    "range_price = max_price - min_price\n",
    "quantiles_price = df['price'].quantile([0.25, 0.5, 0.75])\n",
    "\n",
    "variance_price, std_dev_price, min_price, max_price, range_price, quantiles_price"
   ]
  },
  {
   "cell_type": "markdown",
   "id": "884fa683-cb3a-4298-91a9-688ecd06ab1b",
   "metadata": {},
   "source": [
    "## Visualizations:\r\n",
    "\r\n",
    "Is there a specific price range where most products fall? Plot a histogram to visualize the distribution of product prices. If its hard to read these diagrams, think why this is, and explain how it could be solved..\r\n",
    "Are there products that are priced significantly higher than the rest? Use a box plot to showcase the spread and potential outliers in product pricing."
   ]
  },
  {
   "cell_type": "code",
   "execution_count": 70,
   "id": "ee8221be-1fb8-4308-8cb8-264e8cd81da3",
   "metadata": {},
   "outputs": [
    {
     "name": "stderr",
     "output_type": "stream",
     "text": [
      "C:\\Users\\Meli\\anaconda3\\Lib\\site-packages\\seaborn\\_oldcore.py:1119: FutureWarning: use_inf_as_na option is deprecated and will be removed in a future version. Convert inf values to NaN before operating instead.\n",
      "  with pd.option_context('mode.use_inf_as_na', True):\n"
     ]
    },
    {
     "data": {
      "image/png": "[encoded data removed]",
      "text/plain": [
       "<Figure size 1000x1200 with 2 Axes>"
      ]
     },
     "metadata": {},
     "output_type": "display_data"
    }
   ],
   "source": [
    "# Set up the figure with two subplots\n",
    "fig, axes = plt.subplots(2, 1, figsize=(10, 12))\n",
    "\n",
    "# Plot histogram of product prices\n",
    "sns.histplot(df['price'], bins=20, kde=True, ax=axes[0])\n",
    "axes[0].set_title('Distribution of Product Prices')\n",
    "axes[0].set_xlabel('Price')\n",
    "axes[0].set_ylabel('Frequency')\n",
    "\n",
    "# Plot box plot of product prices\n",
    "sns.boxplot(x=df['price'], ax=axes[1])\n",
    "axes[1].set_title('Box Plot of Product Prices')\n",
    "axes[1].set_xlabel('Price')\n",
    "\n",
    "# Show the plots\n",
    "plt.tight_layout()\n",
    "plt.show()"
   ]
  },
  {
   "cell_type": "markdown",
   "id": "d7a0db6d-8aaa-42a8-b0e0-b0a85ca788d5",
   "metadata": {},
   "source": [
    "## Part 3: Unpacking Product Ratings\r\n",
    "Business Question: How do customers rate products on Amazon UK, and are there any patterns or tendencies in the ratings?\r\n",
    "\r\n",
    "Measures of Centrality:\r\n",
    "\r\n",
    "Calculate the mean, median, and mode for the rating of products.\r\n",
    "How do customers generally rate products? Is there a common trend?"
   ]
  },
  {
   "cell_type": "code",
   "execution_count": 71,
   "id": "1f89f35e-b11c-4ef1-abb6-01f2ad6ecfae",
   "metadata": {},
   "outputs": [
    {
     "data": {
      "text/plain": [
       "(2.15, 0.0, 0.0)"
      ]
     },
     "execution_count": 71,
     "metadata": {},
     "output_type": "execute_result"
    }
   ],
   "source": [
    "mean_price = df['stars'].mean()  # Computes the mean of the selected column\n",
    "median_price = df['stars'].median()  # Calculates the median of the selected column\n",
    "mode_price = df['stars'].mode()[0]  # Identifies the mode of the selected column\n",
    "\n",
    "mean_price.round(2), median_price, mode_price"
   ]
  },
  {
   "cell_type": "markdown",
   "id": "606bdf0e-ce67-4b9a-8253-cde5108dac34",
   "metadata": {},
   "source": [
    "## Measures of Dispersion:\r\n",
    "\r\n",
    "Determine the variance, standard deviation, and interquartile range for product rating.\r\n",
    "Are the ratings consistent, or is there a wide variation in customer feedback?"
   ]
  },
  {
   "cell_type": "code",
   "execution_count": 72,
   "id": "3bf78d1b-5815-42f1-8b5f-58b40be07aad",
   "metadata": {},
   "outputs": [
    {
     "data": {
      "text/plain": [
       "(4.81743402976196,\n",
       " 2.1948653785054697,\n",
       " 0.0,\n",
       " 5.0,\n",
       " 5.0,\n",
       " 0.25                   0.00\n",
       " 0.50                   0.00\n",
       " 0.75                   4.40\n",
       " Name: stars, dtype: float64)"
      ]
     },
     "execution_count": 72,
     "metadata": {},
     "output_type": "execute_result"
    }
   ],
   "source": [
    "variance_price = df['stars'].var()\n",
    "std_dev_price = df['stars'].std()\n",
    "min_price = df['stars'].min()\n",
    "max_price = df['stars'].max()\n",
    "range_price = max_price - min_price\n",
    "quantiles_price = df['stars'].quantile([0.25, 0.5, 0.75])\n",
    "\n",
    "variance_price, std_dev_price, min_price, max_price, range_price, quantiles_price"
   ]
  },
  {
   "cell_type": "code",
   "execution_count": null,
   "id": "7bc94775-da27-4074-a48e-f1e7fa7dce3f",
   "metadata": {},
   "outputs": [],
   "source": [
    "# STD is 2.19 the variation is not that much"
   ]
  },
  {
   "cell_type": "markdown",
   "id": "d7484506-5590-4bf7-9d12-b075f8fae2f3",
   "metadata": {},
   "source": [
    "## Shape of the Distribution:\r\n",
    "\r\n",
    "Calculate the skewness and kurtosis for the rating column.\r\n",
    "Are the ratings normally distributed, or do they lean towards higher or lower values?"
   ]
  },
  {
   "cell_type": "code",
   "execution_count": 73,
   "id": "038c3643-a12a-4753-86d2-30251cfe5c5b",
   "metadata": {},
   "outputs": [
    {
     "data": {
      "text/plain": [
       "(0.08120735761080985, -1.9260061280432985)"
      ]
     },
     "execution_count": 73,
     "metadata": {},
     "output_type": "execute_result"
    }
   ],
   "source": [
    "skewness_price = df['stars'].skew()\n",
    "kurtosis_price = df['stars'].kurtosis()\n",
    "\n",
    "skewness_price, kurtosis_price"
   ]
  },
  {
   "cell_type": "code",
   "execution_count": 75,
   "id": "4d5bf414-2318-4819-b2e4-a6d2a226a89f",
   "metadata": {},
   "outputs": [],
   "source": [
    "## The positive value of skewness (0.8) for the 'SalePrice' indicates that the distribution is right-skewed. \n",
    "## This means that the tail on the right side (higher ratings) is longer than the left side (lower ratings).\n",
    "## Negative kurtosis (<0): Indicates a distribution with lighter tails and a flatter peak than a normal distribution. Such distributions have fewer outliers."
   ]
  },
  {
   "cell_type": "markdown",
   "id": "fb3bd0b9-11e9-4189-8839-d545b5b0c36f",
   "metadata": {},
   "source": [
    "# Visualizations:\n",
    "\n",
    "Plot a histogram to visualize the distribution of product ratings. Is there a specific rating that is more common?"
   ]
  },
  {
   "cell_type": "code",
   "execution_count": 76,
   "id": "e2057bb1-4cbf-4b1f-8dea-a194def2c05d",
   "metadata": {
    "scrolled": true
   },
   "outputs": [
    {
     "name": "stderr",
     "output_type": "stream",
     "text": [
      "C:\\Users\\Meli\\anaconda3\\Lib\\site-packages\\seaborn\\_oldcore.py:1119: FutureWarning: use_inf_as_na option is deprecated and will be removed in a future version. Convert inf values to NaN before operating instead.\n",
      "  with pd.option_context('mode.use_inf_as_na', True):\n"
     ]
    },
    {
     "data": {
      "image/png": "[encoded data removed]",
      "text/plain": [
       "<Figure size 1000x600 with 1 Axes>"
      ]
     },
     "metadata": {},
     "output_type": "display_data"
    }
   ],
   "source": [
    "# Plot histogram with KDE\n",
    "plt.figure(figsize=(10, 6))\n",
    "sns.histplot(df['stars'], bins=10, kde=True)\n",
    "plt.title('Distribution of Product Ratings')\n",
    "plt.xlabel('stars')\n",
    "plt.ylabel('Frequency')\n",
    "plt.show()"
   ]
  },
  {
   "cell_type": "code",
   "execution_count": null,
   "id": "80ff915b-77a1-4a86-999a-427b6da54f46",
   "metadata": {},
   "outputs": [],
   "source": [
    "# 0 stars is the most common rating."
   ]
  },
  {
   "cell_type": "code",
   "execution_count": null,
   "id": "444db225-9cc2-4970-8ba4-0fc1f46ad5d3",
   "metadata": {},
   "outputs": [],
   "source": []
  }
 ],
 "metadata": {
  "kernelspec": {
   "display_name": "Python 3 (ipykernel)",
   "language": "python",
   "name": "python3"
  },
  "language_info": {
   "codemirror_mode": {
    "name": "ipython",
    "version": 3
   },
   "file_extension": ".py",
   "mimetype": "text/x-python",
   "name": "python",
   "nbconvert_exporter": "python",
   "pygments_lexer": "ipython3",
   "version": "3.11.7"
  }
 },
 "nbformat": 4,
 "nbformat_minor": 5
}
